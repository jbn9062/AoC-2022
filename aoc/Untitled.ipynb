{
 "cells": [
  {
   "cell_type": "code",
   "execution_count": 32,
   "id": "c186fd97",
   "metadata": {},
   "outputs": [
    {
     "name": "stdout",
     "output_type": "stream",
     "text": [
      "vJrwpWtwJgWrhcsFMMfFFhFp vJrwpWtwJgWr hcsFMMfFFhFp\n",
      "jqHRNqRjqzjGDLGLrsFMfFZSrLrFZsSL jqHRNqRjqzjGDLGL rsFMfFZSrLrFZsSL\n",
      "PmmdzqPrVvPwwTWBwg PmmdzqPrV vPwwTWBwg\n",
      "wMqvLMZHhHMvwLHjbvcjnnSBnvTQFn wMqvLMZHhHMvwLH jbvcjnnSBnvTQFn\n",
      "ttgJtRGJQctTZtZT ttgJtRGJ QctTZtZT\n",
      "CrZsJsPPZsGzwwsLwLmpwMDw CrZsJsPPZsGz wwsLwLmpwMDw\n"
     ]
    }
   ],
   "source": [
    "from collections import Counter\n",
    "import string\n",
    "with open(\"day03.txt\", \"r\") as f:\n",
    "    bag = [i for i in f.read().strip().split('\\n')]\n",
    "part1 = []\n",
    "part2 = []\n",
    "common = []\n",
    "for i in bag:\n",
    "    part1 = i[:len(i)//2]\n",
    "    part2 = i[len(i)//2:]\n",
    "    print(i, part1, part2)\n",
    "    for j in i:\n",
    "        if j in part1 and j in part2:\n",
    "            common.append(j)"
   ]
  },
  {
   "cell_type": "code",
   "execution_count": 33,
   "id": "7dc76ec2",
   "metadata": {},
   "outputs": [
    {
     "name": "stdout",
     "output_type": "stream",
     "text": [
      "Common:  ['L', 'L', 'L', 'L', 'P', 'P', 'P', 'p', 'p', 's', 's', 's', 's', 't', 't', 't', 't', 't', 'v', 'v', 'v', 'v']\n",
      "X:  Counter({'t': 5, 'L': 4, 'v': 4, 's': 4, 'P': 3, 'p': 2})\n"
     ]
    }
   ],
   "source": [
    "x = Counter(common)\n",
    "print(\"Common: \", sorted(common))\n",
    "print(\"X: \",x)\n"
   ]
  },
  {
   "cell_type": "code",
   "execution_count": 34,
   "id": "f452c837",
   "metadata": {},
   "outputs": [
    {
     "name": "stdout",
     "output_type": "stream",
     "text": [
      "Alphas ['a', 'b', 'c', 'd', 'e', 'f', 'g', 'h', 'i', 'j', 'k', 'l', 'm', 'n', 'o', 'p', 'q', 'r', 's', 't', 'u', 'v', 'w', 'x', 'y', 'z', 'A', 'B', 'C', 'D', 'E', 'F', 'G', 'H', 'I', 'J', 'K', 'L', 'M', 'N', 'O', 'P', 'Q', 'R', 'S', 'T', 'U', 'V', 'W', 'X', 'Y', 'Z']\n"
     ]
    }
   ],
   "source": [
    "lowerAlpa = [str(i) for i in string.ascii_lowercase]\n",
    "upperAlpha = [str(i) for i in string.ascii_uppercase]\n",
    "alphas = lowerAlpa+upperAlpha\n",
    "print(\"Alphas\", alphas)"
   ]
  },
  {
   "cell_type": "code",
   "execution_count": 35,
   "id": "f693aaf5",
   "metadata": {},
   "outputs": [
    {
     "name": "stdout",
     "output_type": "stream",
     "text": [
      "{'a': 1, 'b': 2, 'c': 3, 'd': 4, 'e': 5, 'f': 6, 'g': 7, 'h': 8, 'i': 9, 'j': 10, 'k': 11, 'l': 12, 'm': 13, 'n': 14, 'o': 15, 'p': 16, 'q': 17, 'r': 18, 's': 19, 't': 20, 'u': 21, 'v': 22, 'w': 23, 'x': 24, 'y': 25, 'z': 26, 'A': 27, 'B': 28, 'C': 29, 'D': 30, 'E': 31, 'F': 32, 'G': 33, 'H': 34, 'I': 35, 'J': 36, 'K': 37, 'L': 38, 'M': 39, 'N': 40, 'O': 41, 'P': 42, 'Q': 43, 'R': 44, 'S': 45, 'T': 46, 'U': 47, 'V': 48, 'W': 49, 'X': 50, 'Y': 51, 'Z': 52}\n"
     ]
    }
   ],
   "source": [
    "priors = {}\n",
    "for count, value in enumerate(alphas, 1):\n",
    "    priors[value] = count\n",
    "print(priors)\n"
   ]
  },
  {
   "cell_type": "code",
   "execution_count": 36,
   "id": "304be15a",
   "metadata": {},
   "outputs": [
    {
     "name": "stdout",
     "output_type": "stream",
     "text": [
      "{'p': 16, 's': 19, 't': 20, 'v': 22, 'L': 38, 'P': 42}\n"
     ]
    }
   ],
   "source": [
    "newPrior={}\n",
    "for k, v in priors.items():\n",
    "    for a in common:\n",
    "        if k == a:\n",
    "            newPrior[k] = v\n",
    "print(newPrior)"
   ]
  },
  {
   "cell_type": "code",
   "execution_count": 38,
   "id": "45ac2cd6",
   "metadata": {},
   "outputs": [
    {
     "name": "stdout",
     "output_type": "stream",
     "text": [
      "priors {'a': 1, 'b': 2, 'c': 3, 'd': 4, 'e': 5, 'f': 6, 'g': 7, 'h': 8, 'i': 9, 'j': 10, 'k': 11, 'l': 12, 'm': 13, 'n': 14, 'o': 15, 'p': 16, 'q': 17, 'r': 18, 's': 19, 't': 20, 'u': 21, 'v': 22, 'w': 23, 'x': 24, 'y': 25, 'z': 26, 'A': 27, 'B': 28, 'C': 29, 'D': 30, 'E': 31, 'F': 32, 'G': 33, 'H': 34, 'I': 35, 'J': 36, 'K': 37, 'L': 38, 'M': 39, 'N': 40, 'O': 41, 'P': 42, 'Q': 43, 'R': 44, 'S': 45, 'T': 46, 'U': 47, 'V': 48, 'W': 49, 'X': 50, 'Y': 51, 'Z': 52}\n",
      "newPrior:  {'p': 16, 's': 19, 't': 20, 'v': 22, 'L': 38, 'P': 42}\n",
      "312\n"
     ]
    }
   ],
   "source": [
    "total = 0\n",
    "for k in newPrior.keys():\n",
    "    if k in common:\n",
    "        total = total + v\n",
    "print(\"priors\", priors)\n",
    "print(\"newPrior: \", newPrior)\n",
    "print(total)"
   ]
  },
  {
   "cell_type": "code",
   "execution_count": 39,
   "id": "aeb2d7ba",
   "metadata": {},
   "outputs": [
    {
     "name": "stdout",
     "output_type": "stream",
     "text": [
      "vJrwpWtwJgWrhcsFMMfFFhFp vJrwpWtwJgWr hcsFMMfFFhFp\n",
      "jqHRNqRjqzjGDLGLrsFMfFZSrLrFZsSL jqHRNqRjqzjGDLGL rsFMfFZSrLrFZsSL\n",
      "PmmdzqPrVvPwwTWBwg PmmdzqPrV vPwwTWBwg\n",
      "wMqvLMZHhHMvwLHjbvcjnnSBnvTQFn wMqvLMZHhHMvwLH jbvcjnnSBnvTQFn\n",
      "ttgJtRGJQctTZtZT ttgJtRGJ QctTZtZT\n",
      "CrZsJsPPZsGzwwsLwLmpwMDw CrZsJsPPZsGz wwsLwLmpwMDw\n",
      "Common:  ['p', 'L', 'L', 'P', 'P', 'v', 'v', 't', 't', 't', 's', 's', 's']\n",
      "X:  Counter({'t': 3, 's': 3, 'L': 2, 'P': 2, 'v': 2, 'p': 1})\n",
      "Alphas ['a', 'b', 'c', 'd', 'e', 'f', 'g', 'h', 'i', 'j', 'k', 'l', 'm', 'n', 'o', 'p', 'q', 'r', 's', 't', 'u', 'v', 'w', 'x', 'y', 'z', 'A', 'B', 'C', 'D', 'E', 'F', 'G', 'H', 'I', 'J', 'K', 'L', 'M', 'N', 'O', 'P', 'Q', 'R', 'S', 'T', 'U', 'V', 'W', 'X', 'Y', 'Z']\n",
      "priors {'a': 1, 'b': 2, 'c': 3, 'd': 4, 'e': 5, 'f': 6, 'g': 7, 'h': 8, 'i': 9, 'j': 10, 'k': 11, 'l': 12, 'm': 13, 'n': 14, 'o': 15, 'p': 16, 'q': 17, 'r': 18, 's': 19, 't': 20, 'u': 21, 'v': 22, 'w': 23, 'x': 24, 'y': 25, 'z': 26, 'A': 27, 'B': 28, 'C': 29, 'D': 30, 'E': 31, 'F': 32, 'G': 33, 'H': 34, 'I': 35, 'J': 36, 'K': 37, 'L': 38, 'M': 39, 'N': 40, 'O': 41, 'P': 42, 'Q': 43, 'R': 44, 'S': 45, 'T': 46, 'U': 47, 'V': 48, 'W': 49, 'X': 50, 'Y': 51, 'Z': 52}\n",
      "newPrior:  {'p': 16, 's': 19, 't': 20, 'v': 22, 'L': 38, 'P': 42}\n",
      "157\n"
     ]
    }
   ],
   "source": [
    "from collections import Counter\n",
    "import string\n",
    "with open(\"day03.txt\", \"r\") as f:\n",
    "    bag = [i for i in f.read().strip().split('\\n')]\n",
    "part1 = []\n",
    "part2 = []\n",
    "common = []\n",
    "for i in bag:\n",
    "    part1 = i[:len(i)//2]\n",
    "    part2 = i[len(i)//2:]\n",
    "    print(i, part1, part2)\n",
    "    for i in part1:\n",
    "        if i in part2:\n",
    "            common.append(i)\n",
    "\n",
    "\n",
    "x = Counter(common)\n",
    "print(\"Common: \", common)\n",
    "print(\"X: \", x)\n",
    "\n",
    "lowerAlpa = [str(i) for i in string.ascii_lowercase]\n",
    "upperAlpha = [str(i) for i in string.ascii_uppercase]\n",
    "alphas = lowerAlpa+upperAlpha\n",
    "print(\"Alphas\", alphas)\n",
    "\n",
    "priors = {}\n",
    "for count, value in enumerate(alphas, 1):\n",
    "    priors[value] = count\n",
    "\n",
    "newPrior={}\n",
    "for k, v in priors.items():\n",
    "    for a, b in x.items():\n",
    "        if k == a:\n",
    "            newPrior[k] = v\n",
    "\n",
    "total = 0\n",
    "for k,v in newPrior.items():\n",
    "    if k in x:\n",
    "        total = total + v\n",
    "print(\"priors\", priors)\n",
    "print(\"newPrior: \", newPrior)\n",
    "print(total)"
   ]
  },
  {
   "cell_type": "code",
   "execution_count": null,
   "id": "28bd0039",
   "metadata": {},
   "outputs": [],
   "source": []
  },
  {
   "cell_type": "code",
   "execution_count": null,
   "id": "6d4601e0",
   "metadata": {},
   "outputs": [],
   "source": []
  }
 ],
 "metadata": {
  "kernelspec": {
   "display_name": "Python 3 (ipykernel)",
   "language": "python",
   "name": "python3"
  },
  "language_info": {
   "codemirror_mode": {
    "name": "ipython",
    "version": 3
   },
   "file_extension": ".py",
   "mimetype": "text/x-python",
   "name": "python",
   "nbconvert_exporter": "python",
   "pygments_lexer": "ipython3",
   "version": "3.10.6"
  }
 },
 "nbformat": 4,
 "nbformat_minor": 5
}
